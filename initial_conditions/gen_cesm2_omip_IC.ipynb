{
 "cells": [
  {
   "cell_type": "code",
   "execution_count": 1,
   "metadata": {},
   "outputs": [],
   "source": [
    "from datetime import date, datetime, timezone\n",
    "import os\n",
    "import warnings\n",
    "\n",
    "import git\n",
    "import matplotlib.pyplot as plt\n",
    "import numpy as np\n",
    "import xarray as xr\n",
    "\n",
    "import esmlab\n",
    "import esmlab_regrid\n",
    "import pop_tools\n",
    "\n",
    "from gen_remap_weights_1d import gen_remap_weights_1d\n",
    "import config\n",
    "import util"
   ]
  },
  {
   "cell_type": "code",
   "execution_count": 2,
   "metadata": {},
   "outputs": [],
   "source": [
    "# script identifier to go in generated file\n",
    "\n",
    "repo = 'github.com/marbl-ecosys/marbl-forcing'\n",
    "sha = git.Repo(search_parent_directories=True).head.object.hexsha\n",
    "script_fname = 'initial_conditions/gen_cesm2_omip_IC.ipynb'\n",
    "id_string = f'{repo}/tree/{sha}/{script_fname}'"
   ]
  },
  {
   "cell_type": "code",
   "execution_count": 3,
   "metadata": {},
   "outputs": [
    {
     "name": "stdout",
     "output_type": "stream",
     "text": [
      "/glade/p/cesmdata/cseg/inputdata/cesm2_init/b.e21.B1850.f09_g17.CMIP6-piControl.001/0501-01-01/b.e21.B1850.f09_g17.CMIP6-piControl.001.pop.r.0501-01-01-00000.nc\n"
     ]
    }
   ],
   "source": [
    "# input specifications\n",
    "\n",
    "tracernames = [ 'TEMP', 'SALT',\n",
    "    'NO3', 'PO4', 'SiO3', 'O2', 'DIC', 'ALK', \n",
    "    'spC', 'spChl', 'spFe', 'spP', 'spCaCO3', \n",
    "    'diatC', 'diatChl', 'diatFe', 'diatP', 'diatSi', \n",
    "    'diazC', 'diazChl', 'diazFe', 'diazP', \n",
    "    'zooC', \n",
    "    'DOC', 'DOCr', 'DON', 'DONr', 'DOP', 'DOPr', 'NH4', \n",
    "    'Fe', 'Lig'\n",
    "]\n",
    "\n",
    "# IC specified by OMIP (macronutrients, O2, DIC, ALK)\n",
    "dirin_omip = '/glade/p/cesm/bgcwg/OMIPinit'\n",
    "omip_metadata = {\n",
    "    'TEMP':{'fname':'woa13_temperature_OMIPinit.nc', 'varname':'temp'},\n",
    "    'SALT':{'fname':'woa13_salinity_OMIPinit.nc', 'varname':'salt'},\n",
    "    'NO3':{'fname':'woa13_nitrate_OMIPinit.nc', 'varname':'no3'},\n",
    "    'PO4':{'fname':'woa13_phosphate_OMIPinit.nc', 'varname':'po4'},\n",
    "    'SiO3':{'fname':'woa13_silicate_OMIPinit.nc', 'varname':'si'},\n",
    "    'O2':{'fname':'woa13_oxygen_OMIPinit.nc', 'varname':'o2'},\n",
    "    'DIC':{'fname':'glodapv2_Ct_preind_OMIPinit.nc', 'varname':'Ct_preind'},\n",
    "    'ALK':{'fname':'glodapv2_At_OMIPinit.nc', 'varname':'At'}\n",
    "}\n",
    "\n",
    "# Add grid name to metadata.\n",
    "# This is fragile. It would be better to determine this automatically.\n",
    "# Alternatively, the script would be more self contained if the grid were constructed on the fly.\n",
    "omip_metadata['TEMP']['grid'] = 'latlon_1x1_180W'\n",
    "omip_metadata['SALT']['grid'] = 'latlon_1x1_180W'\n",
    "omip_metadata['NO3']['grid'] = 'latlon_1x1_180W'\n",
    "omip_metadata['PO4']['grid'] = 'latlon_1x1_180W'\n",
    "omip_metadata['SiO3']['grid'] = 'latlon_1x1_180W'\n",
    "omip_metadata['O2']['grid'] = 'latlon_1x1_180W'\n",
    "omip_metadata['DIC']['grid'] = 'latlon_1x1_20E'\n",
    "omip_metadata['ALK']['grid'] = 'latlon_1x1_20E'\n",
    "\n",
    "# get other tracers (living pools, DOM, NH4, Fe, Lig) from refcase\n",
    "refcase = 'b.e21.B1850.f09_g17.CMIP6-piControl.001'\n",
    "refdate = '0501-01-01'\n",
    "dirin_refcase = f'{config.inputdata}/cesm2_init/{refcase}/{refdate}'\n",
    "fname_refcase = f'{dirin_refcase}/{refcase}.pop.r.{refdate}-00000.nc'\n",
    "print(fname_refcase)"
   ]
  },
  {
   "cell_type": "code",
   "execution_count": 4,
   "metadata": {},
   "outputs": [],
   "source": [
    "# details on file being generated\n",
    "\n",
    "dst_grid = 'POP_gx1v7'\n",
    "ltripole = False\n",
    "datestamp = date.today().strftime(\"%y%m%d\")\n",
    "fname_out = f'{config.dirout}/ecosys_jan_IC_omip_{dst_grid}_c{datestamp}.nc'"
   ]
  },
  {
   "cell_type": "code",
   "execution_count": 5,
   "metadata": {},
   "outputs": [],
   "source": [
    "# start ds_out as Dataset of grid variables\n",
    "\n",
    "ds_out = pop_tools.get_grid(grid_name=dst_grid)\n",
    "\n",
    "# add z_t_bounds\n",
    "z_t_edges = np.concatenate(([0.0], np.cumsum(ds_out.dz)))\n",
    "z_t_bounds_vals = np.stack((z_t_edges[:-1], z_t_edges[1:]), axis=1)\n",
    "ds_out['z_t_bounds'] = xr.DataArray(z_t_bounds_vals, dims=('z_t', 'd2'),\n",
    "                                   coords={'z_t':ds_out.z_t})\n",
    "ds_out['z_t'].attrs['bounds'] = 'z_t_bounds'"
   ]
  },
  {
   "cell_type": "code",
   "execution_count": 6,
   "metadata": {},
   "outputs": [],
   "source": [
    "# generate output grid 3D mask\n",
    "\n",
    "nk = len(ds_out.z_t)\n",
    "nj, ni = ds_out.KMT.shape\n",
    "\n",
    "# make 3D array of 0:km\n",
    "zero_to_km = xr.DataArray(np.arange(0, nk), dims=('z_t'))\n",
    "ONES_3d = xr.DataArray(np.ones((nk, nj, ni)), dims=('z_t', 'nlat', 'nlon'))\n",
    "ZERO_TO_KM = (zero_to_km * ONES_3d)\n",
    "\n",
    "# mask out cells where k is below KMT\n",
    "MASK = ZERO_TO_KM.where(ZERO_TO_KM < ds_out.KMT)\n",
    "MASK = xr.where(MASK.notnull(), True, False)\n",
    "\n",
    "MASK['z_t'] = ds_out.z_t"
   ]
  },
  {
   "cell_type": "code",
   "execution_count": 7,
   "metadata": {},
   "outputs": [
    {
     "name": "stdout",
     "output_type": "stream",
     "text": [
      "regridding TEMP\n",
      "regridding SALT\n",
      "regridding NO3\n",
      "regridding PO4\n",
      "regridding SiO3\n",
      "regridding O2\n",
      "regridding DIC\n"
     ]
    },
    {
     "name": "stderr",
     "output_type": "stream",
     "text": [
      "/glade/work/klindsay/miniconda3/envs/analysis_dev/lib/python3.7/site-packages/ipykernel_launcher.py:49: UserWarning: DIC still has missing values\n"
     ]
    },
    {
     "name": "stdout",
     "output_type": "stream",
     "text": [
      "regridding ALK\n"
     ]
    },
    {
     "name": "stderr",
     "output_type": "stream",
     "text": [
      "/glade/work/klindsay/miniconda3/envs/analysis_dev/lib/python3.7/site-packages/ipykernel_launcher.py:49: UserWarning: ALK still has missing values\n"
     ]
    },
    {
     "data": {
      "text/plain": [
       "<xarray.Dataset>\n",
       "Dimensions:      (d2: 2, nlat: 384, nlon: 320, z_t: 60, z_w: 60, z_w_bot: 60)\n",
       "Coordinates:\n",
       "  * z_t          (z_t) float64 500.0 1.5e+03 2.5e+03 ... 5.125e+05 5.375e+05\n",
       "  * z_w          (z_w) float64 0.0 1e+03 2e+03 3e+03 ... 4.75e+05 5e+05 5.25e+05\n",
       "  * z_w_bot      (z_w_bot) float64 1e+03 2e+03 3e+03 ... 5e+05 5.25e+05 5.5e+05\n",
       "Dimensions without coordinates: d2, nlat, nlon\n",
       "Data variables:\n",
       "    TLAT         (nlat, nlon) float64 -79.22 -79.22 -79.22 ... 72.2 72.19 72.19\n",
       "    TLONG        (nlat, nlon) float64 320.6 321.7 322.8 ... 318.9 319.4 319.8\n",
       "    ULAT         (nlat, nlon) float64 -78.95 -78.95 -78.95 ... 72.42 72.41 72.41\n",
       "    ULONG        (nlat, nlon) float64 321.1 322.3 323.4 ... 319.2 319.6 320.0\n",
       "    DXT          (nlat, nlon) float64 2.339e+06 2.339e+06 ... 1.473e+06\n",
       "    DYT          (nlat, nlon) float64 5.94e+06 5.94e+06 ... 5.046e+06 5.046e+06\n",
       "    TAREA        (nlat, nlon) float64 1.39e+13 1.39e+13 ... 7.431e+12 7.432e+12\n",
       "    KMT          (nlat, nlon) int32 0 0 0 0 0 0 0 0 0 0 ... 0 0 0 0 0 0 0 0 0 0\n",
       "    REGION_MASK  (nlat, nlon) int32 0 0 0 0 0 0 0 0 0 0 ... 0 0 0 0 0 0 0 0 0 0\n",
       "    dz           (z_t) float64 1e+03 1e+03 1e+03 ... 2.499e+04 2.5e+04 2.5e+04\n",
       "    z_t_bounds   (z_t, d2) float64 0.0 1e+03 1e+03 ... 5.25e+05 5.25e+05 5.5e+05\n",
       "    TEMP         (z_t, nlat, nlon) float64 nan nan nan nan ... nan nan nan nan\n",
       "    SALT         (z_t, nlat, nlon) float64 nan nan nan nan ... nan nan nan nan\n",
       "    NO3          (z_t, nlat, nlon) float64 nan nan nan nan ... nan nan nan nan\n",
       "    PO4          (z_t, nlat, nlon) float64 nan nan nan nan ... nan nan nan nan\n",
       "    SiO3         (z_t, nlat, nlon) float64 nan nan nan nan ... nan nan nan nan\n",
       "    O2           (z_t, nlat, nlon) float64 nan nan nan nan ... nan nan nan nan\n",
       "    DIC          (z_t, nlat, nlon) float64 nan nan nan nan ... nan nan nan nan\n",
       "    ALK          (z_t, nlat, nlon) float64 nan nan nan nan ... nan nan nan nan\n",
       "Attributes:\n",
       "    lateral_dims:       [384, 320]\n",
       "    vertical_dims:      60\n",
       "    vert_grid_file:     /gpfs/fs1/work/klindsay/analysis/pop-tools/pop_tools/...\n",
       "    horiz_grid_fname:   /glade/p/cesmdata/cseg/inputdata/ocn/pop/gx1v7/grid/h...\n",
       "    topography_fname:   /glade/p/cesmdata/cseg/inputdata/ocn/pop/gx1v7/grid/t...\n",
       "    region_mask_fname:  /glade/p/cesmdata/cseg/inputdata/ocn/pop/gx1v7/grid/r...\n",
       "    type:               dipole\n",
       "    title:              POP_gx1v7 grid"
      ]
     },
     "execution_count": 7,
     "metadata": {},
     "output_type": "execute_result"
    }
   ],
   "source": [
    "USER = os.environ['USER']\n",
    "gridfile_directory = esmlab.config.set({'regrid.gridfile-directory': f'/glade/work/{USER}/esmlab-regrid'})\n",
    "\n",
    "for tracername in omip_metadata:\n",
    "    # decode_times=False because omip files have unsupported units\n",
    "    #     \"months since 0000-01-01 00:00:00\"\n",
    "    ds_omip = xr.open_dataset(dirin_omip+'/'+omip_metadata[tracername]['fname'], decode_times=False)\n",
    "    varname_omip = omip_metadata[tracername]['varname']\n",
    "\n",
    "    print(f'regridding {tracername}')\n",
    "\n",
    "    # perform lateral remapping\n",
    "    regrid_operator = esmlab_regrid.regridder(\n",
    "        name_grid_src=omip_metadata[tracername]['grid'], \n",
    "        name_grid_dst=dst_grid, method='conservative', overwrite_existing=False)\n",
    "    tracer_omip = ds_omip[varname_omip]\n",
    "    if 'time' in tracer_omip.dims:\n",
    "        tracer_omip = tracer_omip.isel(time=0, drop=True)\n",
    "    tracer_lateral_regrid = regrid_operator(tracer_omip, renormalize=True)\n",
    "\n",
    "    # generate vertical remapping weights\n",
    "    depth_name_in = tracer_omip.dims[0]\n",
    "    depth_bounds_name = ds_omip[depth_name_in].attrs['bounds']\n",
    "    depth_remap_weights = gen_remap_weights_1d(\n",
    "        ds_omip[depth_bounds_name], ds_out['z_t_bounds'],\n",
    "        ds_omip[depth_name_in].attrs['units'], ds_out.dz.attrs['units'])\n",
    "\n",
    "    # perform vertical remapping\n",
    "    nk_in = tracer_lateral_regrid.shape[0]\n",
    "    tracer_lateral_regrid_flat = tracer_lateral_regrid.values.reshape((nk_in, nj*ni))\n",
    "    tracer_full_regrid_flat = depth_remap_weights.dot(tracer_lateral_regrid_flat)\n",
    "    tracer_full_regrid_values = tracer_full_regrid_flat.reshape((nk, nj, ni))\n",
    "    tracer_full_regrid = xr.DataArray(tracer_full_regrid_values, dims=('z_t', 'nlat', 'nlon'),\n",
    "                                      coords={'z_t':ds_out.z_t}, attrs=tracer_omip.attrs)\n",
    "    tracer_full_regrid = tracer_full_regrid.where(MASK)\n",
    "    tracer_full_regrid.encoding['_FillValue'] = tracer_omip.encoding['_FillValue']\n",
    "    \n",
    "    # perform lateral fill\n",
    "    tracer_full_regrid = pop_tools.lateral_fill(tracer_full_regrid, MASK, ltripole=ltripole)\n",
    "\n",
    "    # perform vertical fill\n",
    "    unfilled = tracer_full_regrid.isnull() & (MASK == 1.)                    \n",
    "    if unfilled.any():\n",
    "        for k in range(1, nk):\n",
    "            tracer_full_regrid[k, :, :] = xr.where(unfilled[k, :, :],\n",
    "                                                   tracer_full_regrid[k-1, :, :],\n",
    "                                                   tracer_full_regrid[k, :, :])\n",
    "        if (tracer_full_regrid.isnull() & (MASK == 1.)).any():\n",
    "            warnings.warn(f'{tracername} still has missing values')\n",
    "\n",
    "    ds_out[tracername] = tracer_full_regrid\n",
    "ds_out"
   ]
  },
  {
   "cell_type": "code",
   "execution_count": 8,
   "metadata": {},
   "outputs": [],
   "source": [
    "# special treatment of DIC and ALK in marginal seas\n",
    "SALT = ds_out.SALT\n",
    "DIC = ds_out.DIC\n",
    "ALK = ds_out.ALK\n",
    "rho_sw = 1.026\n",
    "\n",
    "# Black Sea\n",
    "# fit by eye from Fig 6 of Goyet, Bradshaw, Brewer\n",
    "# The carbonate system in the Black Sea\n",
    "# Deep-Sea Research, part A, Vol 38, Suppl 2, 1991, pp. S1049-S1068\n",
    "MASK_fit = MASK & (ds_out.REGION_MASK == -13) & (SALT <= 21.0)\n",
    "ALK = xr.where(MASK_fit, 3250.0, ALK)\n",
    "DIC = xr.where(MASK_fit, 3250.0, DIC)\n",
    "MASK_fit = MASK & (ds_out.REGION_MASK == -13) & (SALT <= 19.5)\n",
    "DIC = xr.where(MASK_fit, 3000.0 + (SALT - 18) / (19.5 - 18) * (3250 - 3000), DIC)\n",
    "MASK_fit = MASK & (ds_out.REGION_MASK == -13) & (SALT > 21.0)\n",
    "ALK = xr.where(MASK_fit, 3300.0 + (SALT - 21) / (22.3 - 21) * (4500 - 3300), ALK)\n",
    "DIC = xr.where(MASK_fit, (ALK + 1000) / 1.32, DIC)\n",
    "\n",
    "# Baltic Sea\n",
    "# Hjalmarsson et al, Distribution, long-term development and mass\n",
    "# balance calculation of total alkalinity in the Baltic Sea,\n",
    "# Continental Shelf Research, Vol 28, 2008, pp. 593-601\n",
    "# linear fits from Table 2\n",
    "# one fit for psu < 7.3 for Gulf of Bothnia and Bothnian Sea\n",
    "# another fit for Baltic Proper\n",
    "# ignore values from Gulf of Finland and Gulf of Riga\n",
    "# paper reports in umol/L, convert to umol/kg\n",
    "MASK_fit = MASK & (ds_out.REGION_MASK == -12) & (SALT <= 7.3)\n",
    "ALK = xr.where(MASK_fit, (119.0 + 196.0 * SALT) / rho_sw, ALK)\n",
    "DIC = xr.where(MASK_fit, ALK / 1.01, DIC)\n",
    "MASK_fit = MASK & (ds_out.REGION_MASK == -12) & (SALT > 7.3)\n",
    "ALK = xr.where(MASK_fit, (1237.0 + 43.0 * SALT) / rho_sw, ALK)\n",
    "DIC = xr.where(MASK_fit, ALK / 1.01, DIC)\n",
    "\n",
    "ds_out['DIC'].values = DIC.values\n",
    "ds_out['ALK'].values = ALK.values"
   ]
  },
  {
   "cell_type": "code",
   "execution_count": 9,
   "metadata": {},
   "outputs": [
    {
     "name": "stdout",
     "output_type": "stream",
     "text": [
      "copying spC from b.e21.B1850.f09_g17.CMIP6-piControl.001 restart file\n",
      "copying spChl from b.e21.B1850.f09_g17.CMIP6-piControl.001 restart file\n",
      "copying spFe from b.e21.B1850.f09_g17.CMIP6-piControl.001 restart file\n",
      "copying spP from b.e21.B1850.f09_g17.CMIP6-piControl.001 restart file\n",
      "copying spCaCO3 from b.e21.B1850.f09_g17.CMIP6-piControl.001 restart file\n",
      "copying diatC from b.e21.B1850.f09_g17.CMIP6-piControl.001 restart file\n",
      "copying diatChl from b.e21.B1850.f09_g17.CMIP6-piControl.001 restart file\n",
      "copying diatFe from b.e21.B1850.f09_g17.CMIP6-piControl.001 restart file\n",
      "copying diatP from b.e21.B1850.f09_g17.CMIP6-piControl.001 restart file\n",
      "copying diatSi from b.e21.B1850.f09_g17.CMIP6-piControl.001 restart file\n",
      "copying diazC from b.e21.B1850.f09_g17.CMIP6-piControl.001 restart file\n",
      "copying diazChl from b.e21.B1850.f09_g17.CMIP6-piControl.001 restart file\n",
      "copying diazFe from b.e21.B1850.f09_g17.CMIP6-piControl.001 restart file\n",
      "copying diazP from b.e21.B1850.f09_g17.CMIP6-piControl.001 restart file\n",
      "copying zooC from b.e21.B1850.f09_g17.CMIP6-piControl.001 restart file\n",
      "copying DOC from b.e21.B1850.f09_g17.CMIP6-piControl.001 restart file\n",
      "copying DOCr from b.e21.B1850.f09_g17.CMIP6-piControl.001 restart file\n",
      "copying DON from b.e21.B1850.f09_g17.CMIP6-piControl.001 restart file\n",
      "copying DONr from b.e21.B1850.f09_g17.CMIP6-piControl.001 restart file\n",
      "copying DOP from b.e21.B1850.f09_g17.CMIP6-piControl.001 restart file\n",
      "copying DOPr from b.e21.B1850.f09_g17.CMIP6-piControl.001 restart file\n",
      "copying NH4 from b.e21.B1850.f09_g17.CMIP6-piControl.001 restart file\n",
      "copying Fe from b.e21.B1850.f09_g17.CMIP6-piControl.001 restart file\n",
      "copying Lig from b.e21.B1850.f09_g17.CMIP6-piControl.001 restart file\n"
     ]
    }
   ],
   "source": [
    "# copy from refcase restart file to ds_out tracers not yet in ds_out\n",
    "\n",
    "fillvalue = -1.0e34 # value to replace land values with\n",
    "\n",
    "ds_refcase = xr.open_dataset(fname_refcase).rename({'k':'z_t', 'j':'nlat', 'i':'nlon'})\n",
    "ds_refcase['z_t'] = ds_out['z_t']\n",
    "for tracername in tracernames:\n",
    "    if tracername not in ds_out.data_vars:\n",
    "        print(f'copying {tracername} from {refcase} restart file')\n",
    "        tracer = ds_refcase[tracername+'_CUR']\n",
    "        tracer = tracer.where(MASK)\n",
    "        # Set floor values that are 0.0 to value 1 layer shallower.\n",
    "        # This is to fill in values where KMT was popped up by overflow parameterization.\n",
    "        # This is needed to enable using ds_out in runs where overflows are disabled.\n",
    "        for k in range(1, nk):\n",
    "            tracer[k, :, :] = xr.where((tracer[k, :, :] == 0.0) & (k+1 == ds_out.KMT),\n",
    "                                       tracer[k-1, :, :], tracer[k, :, :])\n",
    "        tracer.attrs['coordinates'] = 'TLONG TLAT z_t'\n",
    "        tracer.encoding['_FillValue'] = fillvalue\n",
    "        ds_out[tracername] = tracer"
   ]
  },
  {
   "cell_type": "code",
   "execution_count": 10,
   "metadata": {},
   "outputs": [],
   "source": [
    "# set derived quantities\n",
    "\n",
    "ds_out['DIC_ALT_CO2'] = ds_out['DIC']\n",
    "ds_out['ALK_ALT_CO2'] = ds_out['ALK']\n",
    "DOCtot = ds_out['DOC']\n",
    "DOCtot.values = ds_out['DOC'].values + ds_out['DOCr'].values\n",
    "DOCtot.attrs['long_name'] = 'DOC + DOCr'\n",
    "ds_out['DOCtot'] = DOCtot"
   ]
  },
  {
   "cell_type": "code",
   "execution_count": 11,
   "metadata": {},
   "outputs": [],
   "source": [
    "# write generated file\n",
    "\n",
    "datestamp = datetime.now(timezone.utc).strftime(\"%Y-%m-%d\")\n",
    "ds_out.attrs['history'] = f'created by {id_string} on {datestamp}'\n",
    "omip_file_list = [dirin_omip+'/'+omip_metadata[varname]['fname'] for varname in omip_metadata]\n",
    "ds_out.attrs['input_file_list'] = ' '.join(omip_file_list + [fname_refcase])\n",
    "util.ds_clean(ds_out).to_netcdf(fname_out)"
   ]
  },
  {
   "cell_type": "code",
   "execution_count": null,
   "metadata": {},
   "outputs": [],
   "source": []
  }
 ],
 "metadata": {
  "kernelspec": {
   "display_name": "Python [conda env:analysis_dev]",
   "language": "python",
   "name": "conda-env-analysis_dev-py"
  },
  "language_info": {
   "codemirror_mode": {
    "name": "ipython",
    "version": 3
   },
   "file_extension": ".py",
   "mimetype": "text/x-python",
   "name": "python",
   "nbconvert_exporter": "python",
   "pygments_lexer": "ipython3",
   "version": "3.7.3"
  }
 },
 "nbformat": 4,
 "nbformat_minor": 2
}
