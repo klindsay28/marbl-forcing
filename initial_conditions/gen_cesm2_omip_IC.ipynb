{
 "cells": [
  {
   "cell_type": "code",
   "execution_count": 1,
   "metadata": {},
   "outputs": [],
   "source": [
    "from datetime import date, datetime, timezone\n",
    "\n",
    "import cftime\n",
    "import git\n",
    "import matplotlib.pyplot as plt\n",
    "import numpy as np\n",
    "import xarray as xr\n",
    "\n",
    "import esmlab\n",
    "import esmlab_regrid\n",
    "import pop_tools\n",
    "\n",
    "import config\n",
    "import util"
   ]
  },
  {
   "cell_type": "code",
   "execution_count": 2,
   "metadata": {},
   "outputs": [],
   "source": [
    "# script identifier to go in generated file\n",
    "\n",
    "repo = 'github.com/marbl-ecosys/marbl-forcing'\n",
    "sha = git.Repo(search_parent_directories=True).head.object.hexsha\n",
    "script_fname = 'initial_conditions/gen_cesm2_omip_IC.ipynb'\n",
    "id_string = f'{repo}/tree/{sha}/{script_fname}'"
   ]
  },
  {
   "cell_type": "code",
   "execution_count": 3,
   "metadata": {},
   "outputs": [
    {
     "name": "stdout",
     "output_type": "stream",
     "text": [
      "/glade/p/cesmdata/cseg/inputdata/cesm2_init/b.e21.B1850.f09_g17.CMIP6-piControl.001/0501-01-01/b.e21.B1850.f09_g17.CMIP6-piControl.001.pop.r.0501-01-01-00000.nc\n"
     ]
    }
   ],
   "source": [
    "# input specifications\n",
    "\n",
    "tracernames = [\n",
    "    'NO3', 'PO4', 'SiO3', 'O2', 'DIC', 'ALK', \n",
    "    'spC', 'spChl', 'spFe', 'spP', 'spCaCO3', \n",
    "    'diatC', 'diatChl', 'diatFe', 'diatP', 'diatSi', \n",
    "    'diazC', 'diazChl', 'diazFe', 'diazP', \n",
    "    'zooC', \n",
    "    'DOC', 'DOCr', 'DON', 'DONr', 'DOP', 'DOPr', 'NH4', \n",
    "    'Fe', 'Lig'\n",
    "]\n",
    "\n",
    "# IC specified by OMIP (macronutrients, O2, DIC, ALK)\n",
    "dirin_omip = '/glade/p/cesm/bgcwg/OMIPinit'\n",
    "omip_metadata = {\n",
    "    'NO3':{'fname':'woa13_nitrate_OMIPinit.nc', 'varname':'no3'},\n",
    "    'PO4':{'fname':'woa13_phosphate_OMIPinit.nc', 'varname':'po4'},\n",
    "    'SiO3':{'fname':'woa13_silicate_OMIPinit.nc', 'varname':'si'},\n",
    "    'O2':{'fname':'woa13_oxygen_OMIPinit.nc', 'varname':'o2'},\n",
    "    'DIC':{'fname':'glodapv2_Ct_preind_OMIPinit.nc', 'varname':'Ct_preind'},\n",
    "    'ALK':{'fname':'glodapv2_At_OMIPinit.nc', 'varname':'At'}\n",
    "}\n",
    "\n",
    "# Add grid name to metadata.\n",
    "# This is fragile. It would be better to determine this automatically.\n",
    "# Alternatively, the script would be more self contained if the grid were constructed on the fly.\n",
    "omip_metadata['NO3']['grid'] = 'latlon_1x1_180W'\n",
    "omip_metadata['PO4']['grid'] = 'latlon_1x1_180W'\n",
    "omip_metadata['SiO3']['grid'] = 'latlon_1x1_180W'\n",
    "omip_metadata['O2']['grid'] = 'latlon_1x1_180W'\n",
    "omip_metadata['DIC']['grid'] = 'latlon_1x1_20E'\n",
    "omip_metadata['ALK']['grid'] = 'latlon_1x1_20E'\n",
    "\n",
    "# get other tracers (living pools, DOM, NH4, Fe, Lig) from refcase\n",
    "refcase = 'b.e21.B1850.f09_g17.CMIP6-piControl.001'\n",
    "refdate = '0501-01-01'\n",
    "dirin_refcase = f'{config.inputdata}/cesm2_init/{refcase}/{refdate}'\n",
    "fname_refcase = f'{dirin_refcase}/{refcase}.pop.r.{refdate}-00000.nc'\n",
    "print(fname_refcase)"
   ]
  },
  {
   "cell_type": "code",
   "execution_count": 4,
   "metadata": {},
   "outputs": [],
   "source": [
    "# details on file being generated\n",
    "\n",
    "dst_grid = 'POP_gx1v7'\n",
    "datestamp = date.today().strftime(\"%y%m%d\")\n",
    "fname_out = f'{config.dirout}/ecosys_jan_IC_omip_{dst_grid}_c{datestamp}.nc'"
   ]
  },
  {
   "cell_type": "code",
   "execution_count": 5,
   "metadata": {},
   "outputs": [],
   "source": [
    "# start ds_out as Dataset of grid variables\n",
    "\n",
    "ds_out = pop_tools.get_grid(grid_name=dst_grid)"
   ]
  },
  {
   "cell_type": "code",
   "execution_count": 6,
   "metadata": {},
   "outputs": [
    {
     "name": "stdout",
     "output_type": "stream",
     "text": [
      "copying NO3 from b.e21.B1850.f09_g17.CMIP6-piControl.001 restart file\n",
      "copying PO4 from b.e21.B1850.f09_g17.CMIP6-piControl.001 restart file\n",
      "copying SiO3 from b.e21.B1850.f09_g17.CMIP6-piControl.001 restart file\n",
      "copying O2 from b.e21.B1850.f09_g17.CMIP6-piControl.001 restart file\n",
      "copying DIC from b.e21.B1850.f09_g17.CMIP6-piControl.001 restart file\n",
      "copying ALK from b.e21.B1850.f09_g17.CMIP6-piControl.001 restart file\n",
      "copying spC from b.e21.B1850.f09_g17.CMIP6-piControl.001 restart file\n",
      "copying spChl from b.e21.B1850.f09_g17.CMIP6-piControl.001 restart file\n",
      "copying spFe from b.e21.B1850.f09_g17.CMIP6-piControl.001 restart file\n",
      "copying spP from b.e21.B1850.f09_g17.CMIP6-piControl.001 restart file\n",
      "copying spCaCO3 from b.e21.B1850.f09_g17.CMIP6-piControl.001 restart file\n",
      "copying diatC from b.e21.B1850.f09_g17.CMIP6-piControl.001 restart file\n",
      "copying diatChl from b.e21.B1850.f09_g17.CMIP6-piControl.001 restart file\n",
      "copying diatFe from b.e21.B1850.f09_g17.CMIP6-piControl.001 restart file\n",
      "copying diatP from b.e21.B1850.f09_g17.CMIP6-piControl.001 restart file\n",
      "copying diatSi from b.e21.B1850.f09_g17.CMIP6-piControl.001 restart file\n",
      "copying diazC from b.e21.B1850.f09_g17.CMIP6-piControl.001 restart file\n",
      "copying diazChl from b.e21.B1850.f09_g17.CMIP6-piControl.001 restart file\n",
      "copying diazFe from b.e21.B1850.f09_g17.CMIP6-piControl.001 restart file\n",
      "copying diazP from b.e21.B1850.f09_g17.CMIP6-piControl.001 restart file\n",
      "copying zooC from b.e21.B1850.f09_g17.CMIP6-piControl.001 restart file\n",
      "copying DOC from b.e21.B1850.f09_g17.CMIP6-piControl.001 restart file\n",
      "copying DOCr from b.e21.B1850.f09_g17.CMIP6-piControl.001 restart file\n",
      "copying DON from b.e21.B1850.f09_g17.CMIP6-piControl.001 restart file\n",
      "copying DONr from b.e21.B1850.f09_g17.CMIP6-piControl.001 restart file\n",
      "copying DOP from b.e21.B1850.f09_g17.CMIP6-piControl.001 restart file\n",
      "copying DOPr from b.e21.B1850.f09_g17.CMIP6-piControl.001 restart file\n",
      "copying NH4 from b.e21.B1850.f09_g17.CMIP6-piControl.001 restart file\n",
      "copying Fe from b.e21.B1850.f09_g17.CMIP6-piControl.001 restart file\n",
      "copying Lig from b.e21.B1850.f09_g17.CMIP6-piControl.001 restart file\n"
     ]
    }
   ],
   "source": [
    "# copy from refcase restart file to ds_out tracers not yet in ds_out\n",
    "\n",
    "ds_refcase = xr.open_dataset(fname_refcase)\n",
    "for tracername in tracernames:\n",
    "    if tracername not in ds_refcase.data_vars:\n",
    "        print(f'copying {tracername} from {refcase} restart file')\n",
    "        tracer = ds_refcase[tracername+'_CUR']\n",
    "        tracer.attrs['coordinates'] = 'TLONG TLAT z_t'\n",
    "        ds_out[tracername] = tracer"
   ]
  },
  {
   "cell_type": "code",
   "execution_count": 7,
   "metadata": {},
   "outputs": [],
   "source": [
    "# set derived quantities\n",
    "\n",
    "ds_out['DIC_ALT_CO2'] = ds_out['DIC']\n",
    "ds_out['ALK_ALT_CO2'] = ds_out['ALK']\n",
    "DOCtot = ds_out['DOC'] + ds_out['DOCr']\n",
    "DOCtot.attrs = ds_out['DOC'].attrs\n",
    "DOCtot.attrs['long_name'] = 'DOC + DOCr'\n",
    "ds_out['DOCtot'] = DOCtot"
   ]
  },
  {
   "cell_type": "code",
   "execution_count": 8,
   "metadata": {},
   "outputs": [],
   "source": [
    "# write generated file\n",
    "\n",
    "datestamp = datetime.now(timezone.utc).strftime(\"%Y-%m-%d\")\n",
    "ds_out.attrs['history'] = f'created by {id_string} on {datestamp}'\n",
    "omip_file_list = [dirin_omip+'/'+omip_metadata[varname]['fname'] for varname in omip_metadata]\n",
    "ds_out.attrs['input_file_list'] = ' '.join(omip_file_list + [fname_refcase])\n",
    "util.ds_clean(ds_out).to_netcdf(fname_out)"
   ]
  },
  {
   "cell_type": "code",
   "execution_count": null,
   "metadata": {},
   "outputs": [],
   "source": []
  }
 ],
 "metadata": {
  "kernelspec": {
   "display_name": "Python [conda env:analysis]",
   "language": "python",
   "name": "conda-env-analysis-py"
  },
  "language_info": {
   "codemirror_mode": {
    "name": "ipython",
    "version": 3
   },
   "file_extension": ".py",
   "mimetype": "text/x-python",
   "name": "python",
   "nbconvert_exporter": "python",
   "pygments_lexer": "ipython3",
   "version": "3.7.3"
  }
 },
 "nbformat": 4,
 "nbformat_minor": 2
}
