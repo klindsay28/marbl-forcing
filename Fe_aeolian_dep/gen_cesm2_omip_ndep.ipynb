{
 "cells": [
  {
   "cell_type": "code",
   "execution_count": 1,
   "metadata": {},
   "outputs": [],
   "source": [
    "from datetime import date, datetime, timezone\n",
    "\n",
    "import cftime\n",
    "import git\n",
    "import matplotlib.pyplot as plt\n",
    "import numpy as np\n",
    "import xarray as xr\n",
    "\n",
    "import config\n",
    "import util"
   ]
  },
  {
   "cell_type": "code",
   "execution_count": 2,
   "metadata": {},
   "outputs": [],
   "source": [
    "# script identifier to go in generated file\n",
    "\n",
    "repo = 'github.com/marbl-ecosys/marbl-forcing'\n",
    "sha = git.Repo(search_parent_directories=True).head.object.hexsha\n",
    "script_fname = 'Fe_aeolian_dep/gen_cesm2_omip_ndep.ipynb'\n",
    "id_string = f'{repo}/tree/{sha}/{script_fname}'\n",
    "id_string = f'{script_fname} from {repo}/tree/{sha}'"
   ]
  },
  {
   "cell_type": "code",
   "execution_count": 3,
   "metadata": {},
   "outputs": [
    {
     "name": "stdout",
     "output_type": "stream",
     "text": [
      "['/glade/p/cesmdata/cseg/inputdata/ocn/pop/gx3v7/forcing/ndep_ocn_1850-2000_w_nhx_emis_gx3v7_c180926.nc', '/glade/p/cesmdata/cseg/inputdata/ocn/pop/gx1v6/forcing/ndep_ocn_1850-2000_w_nhx_emis_gx1v6_c180926.nc']\n",
      "(1849, 2015)\n"
     ]
    }
   ],
   "source": [
    "# input files\n",
    "\n",
    "grids = ['gx3v7', 'gx1v6']\n",
    "\n",
    "dirin = f'{config.inputdata}/ocn/pop'\n",
    "fnames_hist = [f'{dirin}/{grid}/forcing/ndep_ocn_1850-2000_w_nhx_emis_{grid}_c180926.nc' for grid in grids]\n",
    "\n",
    "print(fnames_hist)\n",
    "\n",
    "ds_hist = [xr.open_dataset(fname_hist) for fname_hist in fnames_hist]\n",
    "\n",
    "# assume all files have same yr_range, so get yr_range from first file\n",
    "yr_range_hist = (ds_hist[0].time.values[0].year, ds_hist[0].time.values[-1].year)\n",
    "print(yr_range_hist)"
   ]
  },
  {
   "cell_type": "code",
   "execution_count": 4,
   "metadata": {},
   "outputs": [
    {
     "name": "stdout",
     "output_type": "stream",
     "text": [
      "['ndep_ocn_omip_w_nhx_emis_gx3v7_1637-2019_c190522.nc', 'ndep_ocn_omip_w_nhx_emis_gx1v6_1637-2019_c190522.nc']\n"
     ]
    }
   ],
   "source": [
    "# details on file being generated\n",
    "\n",
    "datestamp = date.today().strftime(\"%y%m%d\")\n",
    "\n",
    "def yr_start_cycle0_fosi(yr_range_fosi, cycle_cnt_fosi):\n",
    "    yr_cnt_fosi = yr_range_fosi[1] - yr_range_fosi[0] + 1\n",
    "    return yr_range_fosi[0] - (cycle_cnt_fosi - 1) * yr_cnt_fosi\n",
    "\n",
    "def yr_range_fmt(yr_range):\n",
    "    return f'{yr_range[0]:04d}-{yr_range[1]:04d}'\n",
    "\n",
    "yr_range_omip1 = (1948, 2009)\n",
    "yr_start_cycle0_omip1 = yr_start_cycle0_fosi(yr_range_omip1, cycle_cnt_fosi=6)\n",
    "\n",
    "yr_range_omip2 = (1958, 2018)\n",
    "yr_start_cycle0_omip2 = yr_start_cycle0_fosi(yr_range_omip2, cycle_cnt_fosi=6)\n",
    "\n",
    "yr_lo_omip = min([yr_start_cycle0_omip1, yr_start_cycle0_omip2]) - 1\n",
    "yr_hi_omip = max([yr_range_omip1[1], yr_range_omip2[1]]) + 1\n",
    "yr_range_omip = (yr_lo_omip, yr_hi_omip)\n",
    "fnames_omip = [f'ndep_ocn_omip_w_nhx_emis_{grid}_{yr_range_fmt(yr_range_omip)}_c{datestamp}.nc' for grid in grids]\n",
    "print(fnames_omip)"
   ]
  },
  {
   "cell_type": "code",
   "execution_count": 14,
   "metadata": {},
   "outputs": [],
   "source": [
    "# construct time values for new datasets\n",
    "\n",
    "def time_vars(yr_range, time_units):\n",
    "    calendar = 'noleap'\n",
    "\n",
    "    days_1yr = np.array([31.0, 28.0, 31.0, 30.0, 31.0, 30.0, 31.0, 31.0, 30.0, 31.0, 30.0, 31.0])\n",
    "    nyrs = yr_range[1] - yr_range[0] + 1\n",
    "    time_edges = np.insert(np.cumsum(np.tile(days_1yr, nyrs)), 0, 0)\n",
    "    time_edges += cftime.date2num(cftime.DatetimeNoLeap(yr_range[0], 1, 1), time_units, calendar='noleap')\n",
    "    time_bnds_vals = np.stack((time_edges[:-1], time_edges[1:]), axis=1)\n",
    "    time_vals = np.mean(time_bnds_vals, axis=1)\n",
    "\n",
    "    time_var = xr.DataArray(time_vals, dims='time', coords={'time':time_vals},\n",
    "                            attrs={'long_name':'time', 'units':time_units, 'calendar':calendar, 'bounds':'time_bnds'})\n",
    "    time_bnds_var = xr.DataArray(time_bnds_vals, dims=('time', 'd2'), coords={'time':time_var})\n",
    "    \n",
    "    return time_var, time_bnds_var\n",
    "\n",
    "time_var_omip, time_bnds_var_omip = time_vars(yr_range_omip, ds_hist[0].time.encoding['units'])"
   ]
  },
  {
   "cell_type": "code",
   "execution_count": 20,
   "metadata": {},
   "outputs": [
    {
     "name": "stdout",
     "output_type": "stream",
     "text": [
      "grid = gx3v7\n",
      "copying ULAT\n",
      "copying ULONG\n",
      "copying TAREA\n",
      "copying REGION_MASK\n",
      "copying KMT\n",
      "processing NOy_deposition\n",
      "processing NHx_deposition\n",
      "grid = gx1v6\n",
      "copying ULAT\n",
      "copying ULONG\n",
      "copying TAREA\n",
      "copying REGION_MASK\n",
      "copying KMT\n",
      "processing NOy_deposition\n",
      "processing NHx_deposition\n"
     ]
    }
   ],
   "source": [
    "# construct new datasets, preserving grid and domain variables from ds_hist\n",
    "\n",
    "for grid_ind, grid in enumerate(grids):\n",
    "    print(f'grid = {grid}')\n",
    "\n",
    "    ds_out = xr.Dataset({'time': time_var_omip, 'time_bnds': time_bnds_var_omip})\n",
    "\n",
    "    for varname, var_in in ds_hist[grid_ind].data_vars.items():\n",
    "        if 'Y' in var_in.dims and 'X' in var_in.dims:\n",
    "            if 'time' not in var_in.dims:\n",
    "                print(f'copying {varname}')\n",
    "                ds_out[varname] = var_in\n",
    "            else:\n",
    "                print(f'processing {varname}')\n",
    "\n",
    "                # initial years use first year of ds_hist[grid_ind]\n",
    "                yr_hist = yr_range_hist[0]\n",
    "                var_in_slice = var_in.sel(time=slice(f'{yr_hist:04d}-01-01', f'{(yr_hist+1):04d}-01-01'))\n",
    "                var_out_prehist_vals = np.tile(var_in_slice, (yr_hist - yr_range_omip[0], 1, 1))\n",
    "\n",
    "                # trailing years use last year of ds_hist[grid_ind]\n",
    "                yr_hist = yr_range_hist[1]\n",
    "                var_in_slice = var_in.sel(time=slice(f'{yr_hist:04d}-01-01', f'{(yr_hist+1):04d}-01-01'))\n",
    "                var_out_posthist_vals = np.tile(var_in_slice, (yr_range_omip[1] - yr_hist, 1, 1))\n",
    "                \n",
    "                var_out_vals = np.concatenate((var_out_prehist_vals, var_in.values, var_out_posthist_vals))\n",
    "\n",
    "                var_out = xr.DataArray(var_out_vals, dims=var_in.dims,\n",
    "                                       coords={'time':time_var_omip, 'Y':ds_hist[grid_ind].Y, 'X':ds_hist[grid_ind].X})\n",
    "                var_out.attrs = var_in.attrs\n",
    "                ds_out[varname] = var_out\n",
    "\n",
    "    datestamp = datetime.now(timezone.utc).strftime(\"%Y-%m-%d\")\n",
    "    ds_out.attrs['history'] = f'created by {id_string} on {datestamp}'\n",
    "    ds_out.attrs['input_file_list'] = fnames_hist[grid_ind]\n",
    "    util.ds_clean(ds_out).to_netcdf(fnames_omip[grid_ind], unlimited_dims='time')\n"
   ]
  },
  {
   "cell_type": "code",
   "execution_count": null,
   "metadata": {},
   "outputs": [],
   "source": []
  }
 ],
 "metadata": {
  "kernelspec": {
   "display_name": "Python [conda env:analysis]",
   "language": "python",
   "name": "conda-env-analysis-py"
  },
  "language_info": {
   "codemirror_mode": {
    "name": "ipython",
    "version": 3
   },
   "file_extension": ".py",
   "mimetype": "text/x-python",
   "name": "python",
   "nbconvert_exporter": "python",
   "pygments_lexer": "ipython3",
   "version": "3.7.3"
  }
 },
 "nbformat": 4,
 "nbformat_minor": 2
}
