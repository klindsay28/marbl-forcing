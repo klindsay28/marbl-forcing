{
 "cells": [
  {
   "cell_type": "code",
   "execution_count": 1,
   "metadata": {},
   "outputs": [],
   "source": [
    "from datetime import date, datetime, timezone\n",
    "\n",
    "import cftime\n",
    "import git\n",
    "import matplotlib.pyplot as plt\n",
    "import numpy as np\n",
    "import xarray as xr\n",
    "\n",
    "import config\n",
    "import util"
   ]
  },
  {
   "cell_type": "code",
   "execution_count": 2,
   "metadata": {},
   "outputs": [],
   "source": [
    "# script identifier to go in generated file\n",
    "\n",
    "repo = 'github.com/marbl-ecosys/marbl-forcing'\n",
    "sha = git.Repo(search_parent_directories=True).head.object.hexsha\n",
    "script_fname = 'Fe_aeolian_dep/gen_cesm2_omip_presaero.ipynb'\n",
    "id_string = f'{repo}/tree/{sha}/{script_fname}'"
   ]
  },
  {
   "cell_type": "code",
   "execution_count": 3,
   "metadata": {},
   "outputs": [
    {
     "name": "stdout",
     "output_type": "stream",
     "text": [
      "/glade/p/cesmdata/cseg/inputdata/atm/cam/chem/trop_mozart_aero/aero/aerosoldep_WACCM.ensmean_monthly_hist_1849-2015_0.9x1.25_CMIP6_c180926.nc\n",
      "(1849, 2015)\n"
     ]
    }
   ],
   "source": [
    "# input files\n",
    "\n",
    "dirin = f'{config.inputdata}/atm/cam/chem/trop_mozart_aero/aero'\n",
    "fname_hist = f'{dirin}/aerosoldep_WACCM.ensmean_monthly_hist_1849-2015_0.9x1.25_CMIP6_c180926.nc'\n",
    "\n",
    "print(fname_hist)\n",
    "\n",
    "# drop date and datesec, because they are not used by streams\n",
    "drop_vars = ('date', 'datesec')\n",
    "ds_hist = xr.open_dataset(fname_hist, drop_variables=drop_vars)\n",
    "\n",
    "yr_range_hist = (ds_hist.time.values[0].year, ds_hist.time.values[-1].year)\n",
    "print(yr_range_hist)"
   ]
  },
  {
   "cell_type": "code",
   "execution_count": 4,
   "metadata": {},
   "outputs": [],
   "source": [
    "# details on file being generated\n",
    "\n",
    "datestamp = date.today().strftime(\"%y%m%d\")\n",
    "\n",
    "def yr_start_cycle0_fosi(yr_range_fosi, cycle_cnt_fosi):\n",
    "    yr_cnt_fosi = yr_range_fosi[1] - yr_range_fosi[0] + 1\n",
    "    return yr_range_fosi[0] - (cycle_cnt_fosi - 1) * yr_cnt_fosi\n",
    "\n",
    "def yr_range_fmt(yr_range):\n",
    "    return f'{yr_range[0]:04d}-{yr_range[1]:04d}'\n",
    "\n",
    "yr_range_omip1 = (1948, 2009)\n",
    "yr_start_cycle0_omip1 = yr_start_cycle0_fosi(yr_range_omip1, cycle_cnt_fosi=6)\n",
    "\n",
    "yr_range_omip2 = (1958, 2018)\n",
    "yr_start_cycle0_omip2 = yr_start_cycle0_fosi(yr_range_omip2, cycle_cnt_fosi=6)\n",
    "\n",
    "yr_lo_omip = min([yr_start_cycle0_omip1, yr_start_cycle0_omip2]) - 1\n",
    "yr_range_prehist = (yr_lo_omip, yr_range_hist[0] - 1)\n",
    "fname_prehist = f'aerosoldep_WACCM.ensmean_{yr_range_hist[0]:04d}vals_{yr_range_fmt(yr_range_prehist)}_CMIP6_c{datestamp}.nc'\n",
    "\n",
    "yr_hi_omip = max([yr_range_omip1[1], yr_range_omip2[1]]) + 1\n",
    "yr_range_posthist = (yr_range_hist[1] + 1, yr_hi_omip)\n",
    "fname_posthist = f'aerosoldep_WACCM.ensmean_{yr_range_hist[1]:04d}vals_{yr_range_fmt(yr_range_posthist)}_CMIP6_c{datestamp}.nc'"
   ]
  },
  {
   "cell_type": "code",
   "execution_count": 5,
   "metadata": {},
   "outputs": [],
   "source": [
    "# construct time values for new datasets\n",
    "\n",
    "def time_vars(yr_range, time_units):\n",
    "    calendar = 'noleap'\n",
    "\n",
    "    days_1yr = np.array([31.0, 28.0, 31.0, 30.0, 31.0, 30.0, 31.0, 31.0, 30.0, 31.0, 30.0, 31.0])\n",
    "    nyrs = yr_range[1] - yr_range[0] + 1\n",
    "    time_edges = np.insert(np.cumsum(np.tile(days_1yr, nyrs)), 0, 0)\n",
    "    time_edges += cftime.date2num(cftime.DatetimeNoLeap(yr_range[0], 1, 1), time_units, calendar='noleap')\n",
    "    time_bnds_vals = np.stack((time_edges[:-1], time_edges[1:]), axis=1)\n",
    "    time_vals = np.mean(time_bnds_vals, axis=1)\n",
    "\n",
    "    time_var = xr.DataArray(time_vals, dims='time', coords={'time':time_vals},\n",
    "                            attrs={'long_name':'time', 'units':time_units, 'calendar':calendar, 'bounds':'time_bnds'})\n",
    "    time_bnds_var = xr.DataArray(time_bnds_vals, dims=('time', 'd2'), coords={'time':time_var})\n",
    "    \n",
    "    return time_var, time_bnds_var\n",
    "\n",
    "time_var_prehist, time_bnds_var_prehist = time_vars(yr_range_prehist, ds_hist.time.encoding['units'])\n",
    "\n",
    "time_var_posthist, time_bnds_var_posthist = time_vars(yr_range_posthist, ds_hist.time.encoding['units'])"
   ]
  },
  {
   "cell_type": "code",
   "execution_count": 6,
   "metadata": {},
   "outputs": [],
   "source": [
    "# construct new dataset, preserving grid and domain variables from ds_hist\n",
    "\n",
    "def gen_ds_out(time_var, time_bnds_var, yr_hist):\n",
    "    ds_out = xr.Dataset({'time': time_var, 'time_bnds': time_bnds_var,\n",
    "                         'lon': ds_hist.lon, 'lat': ds_hist.lat})\n",
    "\n",
    "    for varname, var_in in ds_hist.data_vars.items():\n",
    "        if 'lat' in var_in.dims and 'lon' in var_in.dims:\n",
    "            var_in_slice = var_in.sel(time=slice(f'{yr_hist:04d}-01-01', f'{(yr_hist+1):04d}-01-01'))\n",
    "            nyrs = len(time_var.values) // 12\n",
    "            var_out_vals = np.tile(var_in_slice, (nyrs, 1, 1))\n",
    "            var_out = xr.DataArray(var_out_vals, dims=var_in.dims,\n",
    "                                   coords={'time':time_var, 'lat':ds_hist.lat, 'lon':ds_hist.lon})\n",
    "            var_out.attrs = var_in.attrs\n",
    "            ds_out[varname] = var_out\n",
    "\n",
    "    datestamp = datetime.now(timezone.utc).strftime(\"%Y-%m-%d\")\n",
    "    ds_out.attrs['history'] = f'created by {id_string} on {datestamp}'\n",
    "    ds_out.attrs['input_file_list'] = fname_hist\n",
    "    \n",
    "    return ds_out\n",
    "\n",
    "ds_out = gen_ds_out(time_var_prehist, time_bnds_var_prehist, yr_range_hist[0])\n",
    "util.ds_clean(ds_out).to_netcdf(fname_prehist, unlimited_dims='time')\n",
    "\n",
    "ds_out = gen_ds_out(time_var_posthist, time_bnds_var_posthist, yr_range_hist[1])\n",
    "util.ds_clean(ds_out).to_netcdf(fname_posthist, unlimited_dims='time')\n",
    "# utils.ds_clean(ds_out).to_netcdf(fname_out, unlimited_dims='time')"
   ]
  },
  {
   "cell_type": "code",
   "execution_count": null,
   "metadata": {},
   "outputs": [],
   "source": []
  }
 ],
 "metadata": {
  "kernelspec": {
   "display_name": "Python [conda env:analysis]",
   "language": "python",
   "name": "conda-env-analysis-py"
  },
  "language_info": {
   "codemirror_mode": {
    "name": "ipython",
    "version": 3
   },
   "file_extension": ".py",
   "mimetype": "text/x-python",
   "name": "python",
   "nbconvert_exporter": "python",
   "pygments_lexer": "ipython3",
   "version": "3.7.3"
  }
 },
 "nbformat": 4,
 "nbformat_minor": 2
}
